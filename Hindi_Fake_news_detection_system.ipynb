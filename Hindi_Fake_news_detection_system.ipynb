{
  "cells": [
    {
      "cell_type": "code",
      "execution_count": null,
      "metadata": {
        "id": "z5y_bKZPl4za"
      },
      "outputs": [],
      "source": [
        "import numpy as np\n",
        "import pandas as pd\n",
        "import re\n",
        "from nltk.corpus import stopwords\n",
        "print\n",
        "from nltk.stem.porter import PorterStemmer\n",
        "from sklearn.feature_extraction.text import TfidfVectorizer\n",
        "from sklearn.model_selection import train_test_split\n",
        "from sklearn.linear_model import PassiveAggressiveClassifier\n",
        "from sklearn.linear_model import LogisticRegression\n",
        "from sklearn.metrics import classification_report\n",
        "from sklearn.metrics import accuracy_score"
      ]
    },
    {
      "cell_type": "code",
      "execution_count": null,
      "metadata": {
        "colab": {
          "base_uri": "https://localhost:8080/"
        },
        "id": "JvrzbpMAyMFy",
        "outputId": "db23b0bd-a161-491b-c87c-a5e5f0bc5171"
      },
      "outputs": [
        {
          "output_type": "stream",
          "name": "stdout",
          "text": [
            "Mounted at /content/drive\n"
          ]
        }
      ],
      "source": [
        "from google.colab import drive\n",
        "drive.mount('/content/drive')"
      ]
    },
    {
      "cell_type": "markdown",
      "metadata": {
        "id": "ICszVHg3xKDQ"
      },
      "source": [
        "# data preprocessing"
      ]
    },
    {
      "cell_type": "code",
      "execution_count": null,
      "metadata": {
        "id": "oi6Ah4QpLj20"
      },
      "outputs": [],
      "source": [
        "hindi_stopwords=pd.read_csv('/content/drive/MyDrive/internship_project/final_stopwords.txt')\n"
      ]
    },
    {
      "cell_type": "code",
      "execution_count": null,
      "metadata": {
        "colab": {
          "base_uri": "https://localhost:8080/"
        },
        "id": "1y8brS4PW25c",
        "outputId": "376ede42-b92e-4f0f-9e2f-11c36badbc59"
      },
      "outputs": [
        {
          "output_type": "stream",
          "name": "stdout",
          "text": [
            "['मैं', 'मुझको', 'मेरा', 'अपने आप को', 'हमने', 'हमारा', 'अपना', 'हम', 'आप', 'आपका', 'तुम्हारा', 'अपने आप', 'स्वयं', 'वह', 'इसे', 'उसके', 'खुद को', 'कि वह', 'उसकी', 'उसका', 'खुद ही', 'यह', 'इसके', 'उन्होने', 'अपने', 'क्या', 'जो', 'किसे', 'किसको', 'कि', 'ये', 'हूँ', 'होता है', 'रहे', 'थी', 'थे', 'होना', 'गया', 'किया जा रहा है', 'किया है', 'है', 'पडा', 'होने', 'करना', 'करता है', 'किया', 'रही', 'एक', 'लेकिन', 'अगर', 'या', 'क्यूंकि', 'जैसा', 'जब तक', 'जबकि', 'की', 'पर', 'द्वारा', 'के लिए', 'साथ', 'के बारे में', 'खिलाफ', 'बीच', 'में', 'के माध्यम से', 'दौरान', 'से पहले', 'के बाद', 'ऊपर', 'नीचे', 'को', 'से', 'तक', 'से नीचे', 'करने में', 'निकल', 'बंद', 'से अधिक', 'तहत', 'दुबारा', 'आगे', 'फिर', 'एक बार', 'यहाँ', 'वहाँ', 'कब', 'कहाँ', 'क्यों', 'कैसे', 'सारे', 'किसी', 'दोनो', 'प्रत्येक', 'ज्यादा', 'अधिकांश', 'अन्य', 'में कुछ', 'ऐसा', 'में कोई', 'मात्र', 'खुद', 'समान', 'इसलिए', 'बहुत', 'सकता', 'जायेंगे', 'जरा', 'चाहिए', 'अभी', 'और', 'कर दिया', 'रखें', 'का', 'हैं', 'इस', 'होता', 'करने', 'ने', 'बनी', 'तो', 'ही', 'हो', 'इसका', 'था', 'हुआ', 'वाले', 'बाद', 'लिए', 'सकते', 'इसमें', 'दो', 'वे', 'करते', 'कहा', 'वर्ग', 'कई', 'करें', 'होती', 'अपनी', 'उनके', 'यदि', 'हुई', 'जा', 'कहते', 'जब', 'होते', 'कोई', 'हुए', 'व', 'जैसे', 'सभी', 'करता', 'उनकी', 'तरह', 'उस', 'आदि', 'इसकी', 'उनका', 'इसी', 'पे', 'तथा', 'भी', 'परंतु', 'इन', 'कम', 'दूर', 'पूरे', 'गये', 'तुम', 'मै', 'यहां', 'हुये', 'कभी', 'अथवा', 'गयी', 'प्रति', 'जाता', 'इन्हें', 'गई', 'अब', 'जिसमें', 'लिया', 'बड़ा', 'जाती', 'तब', 'उसे', 'जाते', 'लेकर', 'बड़े', 'दूसरे', 'जाने', 'बाहर', 'स्थान', 'उन्हें ', 'गए', 'ऐसे', 'जिससे', 'समय', 'दोनों', 'किए', 'रहती', 'इनके', 'इनका', 'इनकी', 'सकती', 'आज', 'कल', 'जिन्हें', 'जिन्हों', 'तिन्हें', 'तिन्हों', 'किन्हों', 'किन्हें', 'इत्यादि', 'इन्हों', 'उन्हों', 'बिलकुल', 'निहायत', 'इन्हीं', 'उन्हीं', 'जितना', 'दूसरा', 'कितना', 'साबुत', 'वग़ैरह', 'कौनसा', 'लिये', 'दिया', 'जिसे', 'तिसे', 'काफ़ी', 'पहले', 'बाला', 'मानो', 'अंदर', 'भीतर', 'पूरा', 'सारा', 'उनको', 'वहीं', 'जहाँ', 'जीधर', '\\ufeffके', 'एवं', 'कुछ', 'कुल', 'रहा', 'जिस', 'जिन', 'तिस', 'तिन', 'कौन', 'किस', 'संग', 'यही', 'बही', 'उसी', 'मगर', 'कर', 'मे', 'एस', 'उन', 'सो', 'अत', '']\n"
          ]
        }
      ],
      "source": [
        "my_stopwords = open(\"/content/drive/MyDrive/internship_project/final_stopwords.txt\", \"r\")\n",
        "# reading the file\n",
        "data = my_stopwords.read()\n",
        "# replacing end splitting the text \n",
        "# when newline ('\\n') is seen.\n",
        "data_into_list = data.split(\"\\n\")\n",
        "print(data_into_list)\n"
      ]
    },
    {
      "cell_type": "code",
      "execution_count": null,
      "metadata": {
        "id": "IrTDxz3TwzoN"
      },
      "outputs": [],
      "source": [
        "# loading the dataset to a pandas DataFrame\n",
        "news_dataset = pd.read_csv('/content/drive/MyDrive/internship_project/Merged file.csv')"
      ]
    },
    {
      "cell_type": "code",
      "execution_count": null,
      "metadata": {
        "colab": {
          "base_uri": "https://localhost:8080/"
        },
        "id": "hfFjnAn1ydm2",
        "outputId": "79295367-e3e3-401f-8bfe-a4a9b50ea611"
      },
      "outputs": [
        {
          "output_type": "execute_result",
          "data": {
            "text/plain": [
              "(6246, 3)"
            ]
          },
          "metadata": {},
          "execution_count": 7
        }
      ],
      "source": [
        "news_dataset.shape"
      ]
    },
    {
      "cell_type": "code",
      "execution_count": null,
      "metadata": {
        "colab": {
          "base_uri": "https://localhost:8080/",
          "height": 206
        },
        "id": "CQp3mPBHxztg",
        "outputId": "869d6e00-ef1e-4b0f-8aba-041f9b2b52f5"
      },
      "outputs": [
        {
          "output_type": "execute_result",
          "data": {
            "text/plain": [
              "   Label                                              Title Unnamed: 2\n",
              "0      1  Jagdalpur में पर्यटकों के साथ दुर्व्यवहार, नाव...        NaN\n",
              "1      1  इस्तेमाल किए गए ग्रीन टी बैग्स को फेंकने से पह...        NaN\n",
              "2      1  कार से निकलने लगे Gold बिस्किट, पटना में पकड़ा...        NaN\n",
              "3      1  Bhagyam Astrology Special | Aaj Ka Panchang | ...        NaN\n",
              "4      1  MP | Birthday पार्टी में Firing कर किया वीडियो...        NaN"
            ],
            "text/html": [
              "\n",
              "  <div id=\"df-601cdfa1-d740-49ab-b993-c9598b4b7ee5\">\n",
              "    <div class=\"colab-df-container\">\n",
              "      <div>\n",
              "<style scoped>\n",
              "    .dataframe tbody tr th:only-of-type {\n",
              "        vertical-align: middle;\n",
              "    }\n",
              "\n",
              "    .dataframe tbody tr th {\n",
              "        vertical-align: top;\n",
              "    }\n",
              "\n",
              "    .dataframe thead th {\n",
              "        text-align: right;\n",
              "    }\n",
              "</style>\n",
              "<table border=\"1\" class=\"dataframe\">\n",
              "  <thead>\n",
              "    <tr style=\"text-align: right;\">\n",
              "      <th></th>\n",
              "      <th>Label</th>\n",
              "      <th>Title</th>\n",
              "      <th>Unnamed: 2</th>\n",
              "    </tr>\n",
              "  </thead>\n",
              "  <tbody>\n",
              "    <tr>\n",
              "      <th>0</th>\n",
              "      <td>1</td>\n",
              "      <td>Jagdalpur में पर्यटकों के साथ दुर्व्यवहार, नाव...</td>\n",
              "      <td>NaN</td>\n",
              "    </tr>\n",
              "    <tr>\n",
              "      <th>1</th>\n",
              "      <td>1</td>\n",
              "      <td>इस्तेमाल किए गए ग्रीन टी बैग्स को फेंकने से पह...</td>\n",
              "      <td>NaN</td>\n",
              "    </tr>\n",
              "    <tr>\n",
              "      <th>2</th>\n",
              "      <td>1</td>\n",
              "      <td>कार से निकलने लगे Gold बिस्किट, पटना में पकड़ा...</td>\n",
              "      <td>NaN</td>\n",
              "    </tr>\n",
              "    <tr>\n",
              "      <th>3</th>\n",
              "      <td>1</td>\n",
              "      <td>Bhagyam Astrology Special | Aaj Ka Panchang | ...</td>\n",
              "      <td>NaN</td>\n",
              "    </tr>\n",
              "    <tr>\n",
              "      <th>4</th>\n",
              "      <td>1</td>\n",
              "      <td>MP | Birthday पार्टी में Firing कर किया वीडियो...</td>\n",
              "      <td>NaN</td>\n",
              "    </tr>\n",
              "  </tbody>\n",
              "</table>\n",
              "</div>\n",
              "      <button class=\"colab-df-convert\" onclick=\"convertToInteractive('df-601cdfa1-d740-49ab-b993-c9598b4b7ee5')\"\n",
              "              title=\"Convert this dataframe to an interactive table.\"\n",
              "              style=\"display:none;\">\n",
              "        \n",
              "  <svg xmlns=\"http://www.w3.org/2000/svg\" height=\"24px\"viewBox=\"0 0 24 24\"\n",
              "       width=\"24px\">\n",
              "    <path d=\"M0 0h24v24H0V0z\" fill=\"none\"/>\n",
              "    <path d=\"M18.56 5.44l.94 2.06.94-2.06 2.06-.94-2.06-.94-.94-2.06-.94 2.06-2.06.94zm-11 1L8.5 8.5l.94-2.06 2.06-.94-2.06-.94L8.5 2.5l-.94 2.06-2.06.94zm10 10l.94 2.06.94-2.06 2.06-.94-2.06-.94-.94-2.06-.94 2.06-2.06.94z\"/><path d=\"M17.41 7.96l-1.37-1.37c-.4-.4-.92-.59-1.43-.59-.52 0-1.04.2-1.43.59L10.3 9.45l-7.72 7.72c-.78.78-.78 2.05 0 2.83L4 21.41c.39.39.9.59 1.41.59.51 0 1.02-.2 1.41-.59l7.78-7.78 2.81-2.81c.8-.78.8-2.07 0-2.86zM5.41 20L4 18.59l7.72-7.72 1.47 1.35L5.41 20z\"/>\n",
              "  </svg>\n",
              "      </button>\n",
              "      \n",
              "  <style>\n",
              "    .colab-df-container {\n",
              "      display:flex;\n",
              "      flex-wrap:wrap;\n",
              "      gap: 12px;\n",
              "    }\n",
              "\n",
              "    .colab-df-convert {\n",
              "      background-color: #E8F0FE;\n",
              "      border: none;\n",
              "      border-radius: 50%;\n",
              "      cursor: pointer;\n",
              "      display: none;\n",
              "      fill: #1967D2;\n",
              "      height: 32px;\n",
              "      padding: 0 0 0 0;\n",
              "      width: 32px;\n",
              "    }\n",
              "\n",
              "    .colab-df-convert:hover {\n",
              "      background-color: #E2EBFA;\n",
              "      box-shadow: 0px 1px 2px rgba(60, 64, 67, 0.3), 0px 1px 3px 1px rgba(60, 64, 67, 0.15);\n",
              "      fill: #174EA6;\n",
              "    }\n",
              "\n",
              "    [theme=dark] .colab-df-convert {\n",
              "      background-color: #3B4455;\n",
              "      fill: #D2E3FC;\n",
              "    }\n",
              "\n",
              "    [theme=dark] .colab-df-convert:hover {\n",
              "      background-color: #434B5C;\n",
              "      box-shadow: 0px 1px 3px 1px rgba(0, 0, 0, 0.15);\n",
              "      filter: drop-shadow(0px 1px 2px rgba(0, 0, 0, 0.3));\n",
              "      fill: #FFFFFF;\n",
              "    }\n",
              "  </style>\n",
              "\n",
              "      <script>\n",
              "        const buttonEl =\n",
              "          document.querySelector('#df-601cdfa1-d740-49ab-b993-c9598b4b7ee5 button.colab-df-convert');\n",
              "        buttonEl.style.display =\n",
              "          google.colab.kernel.accessAllowed ? 'block' : 'none';\n",
              "\n",
              "        async function convertToInteractive(key) {\n",
              "          const element = document.querySelector('#df-601cdfa1-d740-49ab-b993-c9598b4b7ee5');\n",
              "          const dataTable =\n",
              "            await google.colab.kernel.invokeFunction('convertToInteractive',\n",
              "                                                     [key], {});\n",
              "          if (!dataTable) return;\n",
              "\n",
              "          const docLinkHtml = 'Like what you see? Visit the ' +\n",
              "            '<a target=\"_blank\" href=https://colab.research.google.com/notebooks/data_table.ipynb>data table notebook</a>'\n",
              "            + ' to learn more about interactive tables.';\n",
              "          element.innerHTML = '';\n",
              "          dataTable['output_type'] = 'display_data';\n",
              "          await google.colab.output.renderOutput(dataTable, element);\n",
              "          const docLink = document.createElement('div');\n",
              "          docLink.innerHTML = docLinkHtml;\n",
              "          element.appendChild(docLink);\n",
              "        }\n",
              "      </script>\n",
              "    </div>\n",
              "  </div>\n",
              "  "
            ]
          },
          "metadata": {},
          "execution_count": 8
        }
      ],
      "source": [
        "# print the first 2 rows of the dataframe\n",
        "news_dataset.head()"
      ]
    },
    {
      "cell_type": "code",
      "execution_count": null,
      "metadata": {
        "colab": {
          "base_uri": "https://localhost:8080/"
        },
        "id": "lqQSop4rx8q3",
        "outputId": "039fe0ca-7b67-4de7-967d-c1da709e29ed"
      },
      "outputs": [
        {
          "output_type": "execute_result",
          "data": {
            "text/plain": [
              "Label            0\n",
              "Title            0\n",
              "Unnamed: 2    6245\n",
              "dtype: int64"
            ]
          },
          "metadata": {},
          "execution_count": 9
        }
      ],
      "source": [
        "# counting the number of missing values in the dataset\n",
        "news_dataset.isnull().sum()"
      ]
    },
    {
      "cell_type": "code",
      "execution_count": null,
      "metadata": {
        "id": "Ub2gOnwE1gOQ"
      },
      "outputs": [],
      "source": [
        "X=news_dataset['Title']\n",
        "Y=news_dataset['Label']"
      ]
    },
    {
      "cell_type": "code",
      "execution_count": null,
      "metadata": {
        "colab": {
          "base_uri": "https://localhost:8080/"
        },
        "id": "HENKWP4Q1f0S",
        "outputId": "e4eb45b6-22be-4d47-956e-e3269429ae79"
      },
      "outputs": [
        {
          "output_type": "stream",
          "name": "stdout",
          "text": [
            "0       Jagdalpur में पर्यटकों के साथ दुर्व्यवहार, नाव...\n",
            "1       इस्तेमाल किए गए ग्रीन टी बैग्स को फेंकने से पह...\n",
            "2       कार से निकलने लगे Gold बिस्किट, पटना में पकड़ा...\n",
            "3       Bhagyam Astrology Special | Aaj Ka Panchang | ...\n",
            "4       MP | Birthday पार्टी में Firing कर किया वीडियो...\n",
            "                              ...                        \n",
            "6241    शशिकला को एक और झटका: चेन्नई कोर्ट ने खारिज की...\n",
            "6242    बड़ी उपलब्धि: इस मामले में नीति आयोग ने गुजरात...\n",
            "6243    पलटवार : राम के नाम पर राजनीति कर रही शिवसेना,...\n",
            "6244    बंगाल में बवाल: नाबालिग से दुष्कर्म और हत्या म...\n",
            "6245    तिनका जेल रेडियो : कुरुक्षेत्र जेल में भक्तिभा...\n",
            "Name: Title, Length: 6246, dtype: object\n"
          ]
        }
      ],
      "source": [
        "print(X)"
      ]
    },
    {
      "cell_type": "code",
      "execution_count": null,
      "metadata": {
        "id": "VJUFnzkHcHeL"
      },
      "outputs": [],
      "source": [
        "# from HindiTokenizer import Tokenizer\n",
        "# import re\n",
        "# def tokenize(txt):\n",
        "#     tokens=re.split('\\W+',txt)\n",
        "#     return tokens\n",
        "    \n",
        "# news_dataset['Title']=news_dataset[\"Title\"].apply(lambda x: tokenize(x))"
      ]
    },
    {
      "cell_type": "code",
      "execution_count": null,
      "metadata": {
        "id": "mBi9usjXo7Bn"
      },
      "outputs": [],
      "source": [
        "# def remove_stop(x):\n",
        "#   return [ word for word in str(x).split() if word not in my_stopwords]\n",
        "# news_stopword=news_dataset['Title'].apply(lambda x: remove_stop(x))"
      ]
    },
    {
      "cell_type": "code",
      "execution_count": null,
      "metadata": {
        "id": "GuSABd_JVUi5"
      },
      "outputs": [],
      "source": [
        "# news_stopword"
      ]
    },
    {
      "cell_type": "code",
      "execution_count": null,
      "metadata": {
        "id": "qTFdVyJQ-cfH"
      },
      "outputs": [],
      "source": [
        "# from nltk.tokenize import word_tokenize"
      ]
    },
    {
      "cell_type": "markdown",
      "metadata": {
        "id": "3BvuhhSf40YI"
      },
      "source": [
        "Stemming:\n",
        "\n",
        "Stemming is the process of reducing a word to its Root word\n",
        "\n",
        "example: actor, actress, acting --> act"
      ]
    },
    {
      "cell_type": "code",
      "execution_count": null,
      "metadata": {
        "colab": {
          "base_uri": "https://localhost:8080/"
        },
        "id": "XnMXiJIGbztX",
        "outputId": "4a85232a-c5fb-4737-d73c-909f7b2457ff"
      },
      "outputs": [
        {
          "output_type": "stream",
          "name": "stdout",
          "text": [
            "0       1\n",
            "1       1\n",
            "2       1\n",
            "3       1\n",
            "4       1\n",
            "       ..\n",
            "6241    1\n",
            "6242    1\n",
            "6243    1\n",
            "6244    1\n",
            "6245    1\n",
            "Name: Label, Length: 6246, dtype: int64\n"
          ]
        }
      ],
      "source": [
        "print(Y)"
      ]
    },
    {
      "cell_type": "code",
      "execution_count": null,
      "metadata": {
        "id": "r_qO2ta80kTf"
      },
      "outputs": [],
      "source": [
        "import sys\n",
        "import os\n",
        "\n",
        "py_file_location = \"/content/drive/MyDrive/internship_project\"\n",
        "sys.path.append(os.path.abspath(py_file_location))"
      ]
    },
    {
      "cell_type": "code",
      "execution_count": null,
      "metadata": {
        "id": "1lerIq_c33P_"
      },
      "outputs": [],
      "source": [
        "!python \"/content/drive/MyDrive/internship_project/hindi_stemmer.py\""
      ]
    },
    {
      "cell_type": "code",
      "execution_count": null,
      "metadata": {
        "colab": {
          "base_uri": "https://localhost:8080/"
        },
        "id": "XiwUapu647zi",
        "outputId": "59dc98e8-0248-4161-d325-ce99e75fc568"
      },
      "outputs": [
        {
          "output_type": "stream",
          "name": "stdout",
          "text": [
            "      Label                                              Title Unnamed: 2\n",
            "0         1  Jagdalpur म पर्यटक क साथ दुर्व्यवहार, नाव स सै...        NaN\n",
            "1         1  इस्तेमाल क गए ग्रीन ट बैग्स क फेंकन स पहल जान ...        NaN\n",
            "2         1  कार स निकलन लग Gold बिस्किट, पटन म पकड़ गय सव ...        NaN\n",
            "3         1  Bhagyam Astrology Special | Aaj Ka Panchang | ...        NaN\n",
            "4         1  MP | Birthday पार्ट म Firing कर किय वीडिय वायर...        NaN\n",
            "...     ...                                                ...        ...\n",
            "6241      1  शशिकल क एक और झटका: चेन्नई कोर्ट न खारिज क याच...        NaN\n",
            "6242      1  बड़ उपलब्धि: इस मामल म नीत आयोग न गुजरात क दिय...        NaN\n",
            "6243      1  पलटवार : राम क नाम पर राजनीत कर रह शिवसेना, के...        NaN\n",
            "6244      1  बंगाल म बवाल: नाबालिग स दुष्कर्म और हत्य मामल ...        NaN\n",
            "6245      1  तिनक जेल रेडिय : कुरुक्षेत्र जेल म भक्तिभाव स ...        NaN\n",
            "\n",
            "[6246 rows x 3 columns]\n"
          ]
        }
      ],
      "source": [
        "stemmed_dataset = pd.read_csv('/content/drive/MyDrive/internship_project/stemed_file.csv')\n",
        "print(stemmed_dataset)"
      ]
    },
    {
      "cell_type": "markdown",
      "metadata": {
        "id": "drXk4-lmi9Hj"
      },
      "source": [
        "Stopwords removal\n"
      ]
    },
    {
      "cell_type": "code",
      "execution_count": null,
      "metadata": {
        "id": "H3DBuD3SuQfF"
      },
      "outputs": [],
      "source": [
        "# print(all_stopwords)"
      ]
    },
    {
      "cell_type": "markdown",
      "metadata": {
        "id": "kc_ys32NK_Ob"
      },
      "source": []
    },
    {
      "cell_type": "code",
      "execution_count": null,
      "metadata": {
        "colab": {
          "base_uri": "https://localhost:8080/"
        },
        "id": "vAhoH6CLcXeZ",
        "outputId": "8d5ccdcb-7344-4c62-f500-b7fa5032ca1d"
      },
      "outputs": [
        {
          "output_type": "stream",
          "name": "stdout",
          "text": [
            "['Jagdalpur म पर्यटक क साथ दुर्व्यवहार, नाव स सैर करान वाल पर लग मनमान पैस वसूलन क आरोप'\n",
            " 'इस्तेमाल क गए ग्रीन ट बैग्स क फेंकन स पहल जान ल उसक फायदे'\n",
            " 'कार स निकलन लग Gold बिस्किट, पटन म पकड़ गय सव 2 करोड़ क सोना' ...\n",
            " 'पलटवार : राम क नाम पर राजनीत कर रह शिवसेना, केंद्रीय मंत्र बोले- हिंदुत्व क पेटेंट कांग्रेस-राकांप क बेचा'\n",
            " 'बंगाल म बवाल: नाबालिग स दुष्कर्म और हत्य मामल म सीबीआई जांच क मांग, भाजप न कल बंद क आह्वान किया'\n",
            " 'तिनक जेल रेडिय : कुरुक्षेत्र जेल म भक्तिभाव स मन नवरात्र उत्सव, नवम पर बंदिय क भजन स गूंज परिसर']\n"
          ]
        }
      ],
      "source": [
        "x=stemmed_dataset['Title'].values\n",
        "print(x)"
      ]
    },
    {
      "cell_type": "code",
      "execution_count": null,
      "metadata": {
        "colab": {
          "base_uri": "https://localhost:8080/"
        },
        "id": "_URyFM58w38R",
        "outputId": "e3dbb5c7-925c-412a-fcb2-628fda343f24"
      },
      "outputs": [
        {
          "output_type": "stream",
          "name": "stdout",
          "text": [
            "[1 1 1 ... 1 1 1]\n"
          ]
        }
      ],
      "source": [
        "y=stemmed_dataset['Label'].values\n",
        "print(y)"
      ]
    },
    {
      "cell_type": "markdown",
      "metadata": {
        "id": "XY9h-2JQLArJ"
      },
      "source": [
        "## convert text to numericals\n",
        "\n"
      ]
    },
    {
      "cell_type": "code",
      "execution_count": null,
      "metadata": {
        "id": "B8DXTBGky2-C"
      },
      "outputs": [],
      "source": [
        "vectorizer = TfidfVectorizer()\n",
        "vectorizer.fit(x)\n",
        "\n",
        "x = vectorizer.transform(x)"
      ]
    },
    {
      "cell_type": "code",
      "execution_count": null,
      "metadata": {
        "colab": {
          "base_uri": "https://localhost:8080/"
        },
        "id": "UtZzoTNQ47mm",
        "outputId": "cd8b8ec3-ab8d-44aa-a28c-f1be0bfaf6ce"
      },
      "outputs": [
        {
          "output_type": "stream",
          "name": "stdout",
          "text": [
            "  (0, 3203)\t0.2792416821290462\n",
            "  (0, 3131)\t0.23559773412731422\n",
            "  (0, 3112)\t0.18882263437440833\n",
            "  (0, 3017)\t0.43124599961489896\n",
            "  (0, 2987)\t0.4023562802145965\n",
            "  (0, 2938)\t0.36657310900821444\n",
            "  (0, 2726)\t0.26970166192210343\n",
            "  (0, 2120)\t0.15357259221229086\n",
            "  (0, 1703)\t0.23086335964209928\n",
            "  (0, 835)\t0.44609735750866253\n",
            "  (1, 2994)\t0.4865574918800907\n",
            "  (1, 2756)\t0.32996059287110885\n",
            "  (1, 2185)\t0.41004494074628767\n",
            "  (1, 2103)\t0.43824343021053846\n",
            "  (1, 1893)\t0.46265368967983195\n",
            "  (1, 1799)\t0.28309931140646377\n",
            "  (2, 3346)\t0.31317544966674965\n",
            "  (2, 3112)\t0.21906348584147914\n",
            "  (2, 2709)\t0.43451395535542364\n",
            "  (2, 2701)\t0.34225351664716414\n",
            "  (2, 2224)\t0.21053847773663828\n",
            "  (2, 2131)\t0.45174382951995945\n",
            "  (2, 2120)\t0.17816798018519778\n",
            "  (2, 726)\t0.5175419911086937\n",
            "  (3, 2147)\t0.3068765235743474\n",
            "  :\t:\n",
            "  (6243, 3203)\t0.46070839793663226\n",
            "  (6243, 3095)\t0.22456016456556976\n",
            "  (6243, 2743)\t0.6924878546636001\n",
            "  (6243, 2726)\t0.22248437202788007\n",
            "  (6243, 2336)\t0.3795841411123429\n",
            "  (6243, 2120)\t0.2533725709774355\n",
            "  (6244, 3376)\t0.3085656048912094\n",
            "  (6244, 2956)\t0.286727355033748\n",
            "  (6244, 2850)\t0.3912541301780927\n",
            "  (6244, 2353)\t0.34352346795434463\n",
            "  (6244, 2130)\t0.28606974766075766\n",
            "  (6244, 2120)\t0.1907338749595012\n",
            "  (6244, 2071)\t0.22958464908121898\n",
            "  (6244, 1730)\t0.5096014437010018\n",
            "  (6244, 1633)\t0.3476614298955662\n",
            "  (6245, 3346)\t0.265042915817731\n",
            "  (6245, 3331)\t0.21983921717457214\n",
            "  (6245, 2934)\t0.229631528294297\n",
            "  (6245, 2874)\t0.458551839845577\n",
            "  (6245, 2867)\t0.38828454170939775\n",
            "  (6245, 2726)\t0.2648061427647229\n",
            "  (6245, 2682)\t0.31962649433010965\n",
            "  (6245, 2681)\t0.3950528662725207\n",
            "  (6245, 2631)\t0.2685001970232101\n",
            "  (6245, 1845)\t0.2592588385158121\n"
          ]
        }
      ],
      "source": [
        "print(x)"
      ]
    },
    {
      "cell_type": "code",
      "execution_count": null,
      "metadata": {
        "colab": {
          "base_uri": "https://localhost:8080/"
        },
        "id": "qFGkLYguNyFp",
        "outputId": "26779f1e-09f3-40ba-cc87-2a6dab541754"
      },
      "outputs": [
        {
          "output_type": "execute_result",
          "data": {
            "text/plain": [
              "array([0, 0, 0, ..., 0, 0, 0])"
            ]
          },
          "metadata": {},
          "execution_count": 20
        }
      ],
      "source": [
        "x_train,x_test,y_train,y_test = train_test_split(x,y,test_size=0.2,random_state=0)\n",
        "y_train"
      ]
    },
    {
      "cell_type": "markdown",
      "metadata": {
        "id": "wHjUjuebSNbo"
      },
      "source": [
        "Training and testing data\n"
      ]
    },
    {
      "cell_type": "code",
      "execution_count": null,
      "metadata": {
        "id": "xMQdbiXYR6Bc"
      },
      "outputs": [],
      "source": [
        "model = LogisticRegression()"
      ]
    },
    {
      "cell_type": "code",
      "execution_count": null,
      "metadata": {
        "colab": {
          "base_uri": "https://localhost:8080/"
        },
        "id": "VuWgyx7AR5_C",
        "outputId": "58351a01-62fa-4748-826d-32877699b5b4"
      },
      "outputs": [
        {
          "output_type": "execute_result",
          "data": {
            "text/plain": [
              "LogisticRegression()"
            ]
          },
          "metadata": {},
          "execution_count": 22
        }
      ],
      "source": [
        "model.fit(x_train, y_train)"
      ]
    },
    {
      "cell_type": "code",
      "execution_count": null,
      "metadata": {
        "id": "NbE0av2ER58P"
      },
      "outputs": [],
      "source": [
        "x_train_prediction = model.predict(x_train)\n",
        "training_data_accuracy = accuracy_score(x_train_prediction, y_train)"
      ]
    },
    {
      "cell_type": "code",
      "execution_count": null,
      "metadata": {
        "colab": {
          "base_uri": "https://localhost:8080/"
        },
        "id": "Wso6ZRTDR55y",
        "outputId": "81802570-2e8e-4612-a240-bba7a1d7b2e0"
      },
      "outputs": [
        {
          "output_type": "stream",
          "name": "stdout",
          "text": [
            "Accuracy score of the training data :  0.9159327461969575\n"
          ]
        }
      ],
      "source": [
        "print('Accuracy score of the training data : ', training_data_accuracy)"
      ]
    },
    {
      "cell_type": "code",
      "execution_count": null,
      "metadata": {
        "id": "216feaWfR53L"
      },
      "outputs": [],
      "source": [
        "x_test_prediction = model.predict(x_test)\n",
        "test_data_accuracy = accuracy_score(x_test_prediction, y_test)"
      ]
    },
    {
      "cell_type": "code",
      "execution_count": null,
      "metadata": {
        "colab": {
          "base_uri": "https://localhost:8080/"
        },
        "id": "t7kGfsSPR50M",
        "outputId": "802eb8bc-23d5-4f93-beb6-882e5643b5db"
      },
      "outputs": [
        {
          "output_type": "stream",
          "name": "stdout",
          "text": [
            "Accuracy score of the test data :  0.8552\n"
          ]
        }
      ],
      "source": [
        "print('Accuracy score of the test data : ', test_data_accuracy)"
      ]
    },
    {
      "cell_type": "code",
      "execution_count": null,
      "metadata": {
        "colab": {
          "base_uri": "https://localhost:8080/"
        },
        "id": "uMUShrLwHlu5",
        "outputId": "9c61d7de-b5b2-4bb8-bca0-15236fb42961"
      },
      "outputs": [
        {
          "output_type": "stream",
          "name": "stdout",
          "text": [
            "              precision    recall  f1-score   support\n",
            "\n",
            "           0       0.91      0.83      0.87       719\n",
            "           1       0.80      0.89      0.84       531\n",
            "\n",
            "    accuracy                           0.86      1250\n",
            "   macro avg       0.85      0.86      0.85      1250\n",
            "weighted avg       0.86      0.86      0.86      1250\n",
            "\n"
          ]
        }
      ],
      "source": [
        "print(classification_report(y_test,x_test_prediction))"
      ]
    },
    {
      "cell_type": "code",
      "execution_count": null,
      "metadata": {
        "id": "sZIXb2exOr_C"
      },
      "outputs": [],
      "source": [
        "def fake_news_det(news):\n",
        "    input_data = [news]\n",
        "    vectorized_input_data = vectorizer.transform(input_data)\n",
        "    prediction = model.predict(vectorized_input_data)\n",
        "    print(prediction)\n",
        "    if (prediction[0]==0):\n",
        "      print('The news is Fake')\n",
        "    else:\n",
        "      print('The news is real')"
      ]
    },
    {
      "cell_type": "code",
      "execution_count": null,
      "metadata": {
        "colab": {
          "base_uri": "https://localhost:8080/"
        },
        "id": "tpZrU1ZhQnf2",
        "outputId": "96d640d5-3165-4314-816b-3d0fe3b3d984"
      },
      "outputs": [
        {
          "output_type": "stream",
          "name": "stdout",
          "text": [
            "मंधाना पहली करोड़पति...3.4 करोड़ रुपए में बेंगलुरु ने खरीदा, दीप्ति यूपी और रेणुका RCB में शामिल\n",
            "[1]\n",
            "The news is real\n"
          ]
        }
      ],
      "source": [
        "news=str(input())\n",
        "fake_news_det(news)\n"
      ]
    }
  ],
  "metadata": {
    "colab": {
      "provenance": []
    },
    "kernelspec": {
      "display_name": "Python 3",
      "name": "python3"
    },
    "language_info": {
      "name": "python"
    }
  },
  "nbformat": 4,
  "nbformat_minor": 0
}